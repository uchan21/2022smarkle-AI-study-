{
  "nbformat": 4,
  "nbformat_minor": 0,
  "metadata": {
    "colab": {
      "name": "모두의 딥러닝.선형회귀.ipynb",
      "provenance": [],
      "collapsed_sections": [],
      "authorship_tag": "ABX9TyP+pWP763PcxaoCMyVvzGPl",
      "include_colab_link": true
    },
    "kernelspec": {
      "name": "python3",
      "display_name": "Python 3"
    },
    "language_info": {
      "name": "python"
    }
  },
  "cells": [
    {
      "cell_type": "markdown",
      "metadata": {
        "id": "view-in-github",
        "colab_type": "text"
      },
      "source": [
        "<a href=\"https://colab.research.google.com/github/uchan21/2022smarkle-AI-study-/blob/main/%EB%AA%A8%EB%91%90%EC%9D%98_%EB%94%A5%EB%9F%AC%EB%8B%9D_%EC%84%A0%ED%98%95%ED%9A%8C%EA%B7%80.ipynb\" target=\"_parent\"><img src=\"https://colab.research.google.com/assets/colab-badge.svg\" alt=\"Open In Colab\"/></a>"
      ]
    },
    {
      "cell_type": "code",
      "source": [
        "##numpy를 import하기\n",
        "import numpy as np"
      ],
      "metadata": {
        "id": "3Hgx-dj2ZoIe"
      },
      "execution_count": 1,
      "outputs": []
    },
    {
      "cell_type": "code",
      "source": [
        "##독립변수 x와 종속변수 y를 입력하기\n",
        "x = [2,4,6,8]\n",
        "y = [81,93,91,97]"
      ],
      "metadata": {
        "id": "pzoC8LlpfJ90"
      },
      "execution_count": 2,
      "outputs": []
    },
    {
      "cell_type": "code",
      "source": [
        "##두 배열의 평균 찾기\n",
        "mx = np.mean(x)\n",
        "my = np.mean(y)"
      ],
      "metadata": {
        "id": "f6uqRGf9fRLx"
      },
      "execution_count": 3,
      "outputs": []
    },
    {
      "cell_type": "code",
      "source": [
        "##최소 제곱법 분모 구하고 확인!!\n",
        "divisor = sum([(i-mx)**2 for i in x])\n",
        "divisor"
      ],
      "metadata": {
        "colab": {
          "base_uri": "https://localhost:8080/"
        },
        "id": "3jNjidajfcen",
        "outputId": "21ad1aed-4b06-4728-b472-80463de8879d"
      },
      "execution_count": 4,
      "outputs": [
        {
          "output_type": "execute_result",
          "data": {
            "text/plain": [
              "20.0"
            ]
          },
          "metadata": {},
          "execution_count": 4
        }
      ]
    },
    {
      "cell_type": "code",
      "source": [
        "##분자 구하는 함수 top\n",
        "def top(x,mx,y,my):\n",
        "  d = 0\n",
        "  for i in range(len(x)):       ##x 배열의 길이만큼 반복(y로 해도 상관X)\n",
        "    d+=(x[i]-mx)*(y[i]-my)      ##최소 제곱법의 분자 구하는 공식\n",
        "  return d                      ##반환하기!!\n"
      ],
      "metadata": {
        "id": "LYOhBmOcfrzh"
      },
      "execution_count": 5,
      "outputs": []
    },
    {
      "cell_type": "code",
      "source": [
        "##top 함수를 써서 dividend에 넣고 확인!!\n",
        "dividend = top(x,mx,y,my)\n",
        "dividend"
      ],
      "metadata": {
        "colab": {
          "base_uri": "https://localhost:8080/"
        },
        "id": "3hTFU690gCgL",
        "outputId": "022b22db-3c2f-4119-8a35-786c816add5b"
      },
      "execution_count": 6,
      "outputs": [
        {
          "output_type": "execute_result",
          "data": {
            "text/plain": [
              "46.0"
            ]
          },
          "metadata": {},
          "execution_count": 6
        }
      ]
    },
    {
      "cell_type": "code",
      "source": [
        "##기울기 구하기\n",
        "a = dividend/divisor\n",
        "a"
      ],
      "metadata": {
        "colab": {
          "base_uri": "https://localhost:8080/"
        },
        "id": "6EXxWb6igDO1",
        "outputId": "f66ced62-abfb-49c8-eb73-f18d271dc357"
      },
      "execution_count": 7,
      "outputs": [
        {
          "output_type": "execute_result",
          "data": {
            "text/plain": [
              "2.3"
            ]
          },
          "metadata": {},
          "execution_count": 7
        }
      ]
    },
    {
      "cell_type": "code",
      "source": [
        "##y절편 구하기\n",
        "b = my - (mx*a)\n",
        "b"
      ],
      "metadata": {
        "colab": {
          "base_uri": "https://localhost:8080/"
        },
        "id": "2uhlJcpjgJ34",
        "outputId": "6781cfb7-9a6c-40fa-c1a0-4b8ab656c6bf"
      },
      "execution_count": 8,
      "outputs": [
        {
          "output_type": "execute_result",
          "data": {
            "text/plain": [
              "79.0"
            ]
          },
          "metadata": {},
          "execution_count": 8
        }
      ]
    },
    {
      "cell_type": "code",
      "source": [
        "##정리\n",
        "print(\"x의 평균값 :\",mx)\n",
        "print(\"y의 평균값 :\",my)\n",
        "print(\"분모 :\",divisor)\n",
        "print(\"분자 :\",dividend)\n",
        "print(\"기울기 a =\",a)\n",
        "print(\"y절편 b=\",b)"
      ],
      "metadata": {
        "colab": {
          "base_uri": "https://localhost:8080/"
        },
        "id": "pioqUs30gPK_",
        "outputId": "b7ceea4c-010f-41e4-dac7-4637caa3c51c"
      },
      "execution_count": 9,
      "outputs": [
        {
          "output_type": "stream",
          "name": "stdout",
          "text": [
            "x의 평균값 : 5.0\n",
            "y의 평균값 : 90.5\n",
            "분모 : 20.0\n",
            "분자 : 46.0\n",
            "기울기 a = 2.3\n",
            "y절편 b= 79.0\n"
          ]
        }
      ]
    },
    {
      "cell_type": "code",
      "source": [
        "##평균제곱오차 구하기\n",
        "fake_a_b = [3,76]    ##임의의 예측 선의 기울기와 y절편"
      ],
      "metadata": {
        "id": "-s9CwzXXghTO"
      },
      "execution_count": 10,
      "outputs": []
    },
    {
      "cell_type": "code",
      "source": [
        "##임의의 예측선을 독립변수 x를 이용해 함수화 시키기\n",
        "def predict(x):\n",
        "  return fake_a_b[0]*x+fake_a_b[1]"
      ],
      "metadata": {
        "id": "Zr055xf6joGe"
      },
      "execution_count": 11,
      "outputs": []
    },
    {
      "cell_type": "code",
      "source": [
        "##MSE함수 정의하기\n",
        "def mse(y,y_hat):\n",
        "  return ((y-y_hat)**2).mean()"
      ],
      "metadata": {
        "id": "XQBGAlAskB_m"
      },
      "execution_count": 12,
      "outputs": []
    },
    {
      "cell_type": "code",
      "source": [
        "##mse함수를 활용해 최종값을 구하는 함수\n",
        "def mse_val(y,predict_result):\n",
        "  return mse(np.array(y),np.array(predict_result))"
      ],
      "metadata": {
        "id": "DJb4MkIskXDy"
      },
      "execution_count": 13,
      "outputs": []
    },
    {
      "cell_type": "code",
      "source": [
        "##예측값 넣는 배열\n",
        "predict_result=[]"
      ],
      "metadata": {
        "id": "3Nr9HVlxl9Fq"
      },
      "execution_count": 14,
      "outputs": []
    },
    {
      "cell_type": "code",
      "source": [
        "##배열에 예측값 넣기\n",
        "for i in range(len(x)):\n",
        "  predict_result.append(predict(x[i]))"
      ],
      "metadata": {
        "id": "AitkgPzRmBne"
      },
      "execution_count": 15,
      "outputs": []
    },
    {
      "cell_type": "code",
      "source": [
        "for i in range(len(predict_result)):       ##예측값이 들어간 배열의 길이만큼 반복\n",
        "  print(\"공부한 시간 = %.f, 실제 점수 = %.f, 예측 점수 = %.f\"%(x[i],y[i],predict_result[i]))\n",
        "print(\"mse 최종값 :\",mse_val(predict_result,y))##mse출력하기"
      ],
      "metadata": {
        "colab": {
          "base_uri": "https://localhost:8080/"
        },
        "id": "s2tOabAxmN0z",
        "outputId": "fbb2d4c1-c8fd-423d-e137-d1840e5d57da"
      },
      "execution_count": 16,
      "outputs": [
        {
          "output_type": "stream",
          "name": "stdout",
          "text": [
            "공부한 시간 = 2, 실제 점수 = 81, 예측 점수 = 82\n",
            "공부한 시간 = 4, 실제 점수 = 93, 예측 점수 = 88\n",
            "공부한 시간 = 6, 실제 점수 = 91, 예측 점수 = 94\n",
            "공부한 시간 = 8, 실제 점수 = 97, 예측 점수 = 100\n",
            "mse 최종값 : 11.0\n"
          ]
        }
      ]
    },
    {
      "cell_type": "code",
      "source": [
        ""
      ],
      "metadata": {
        "id": "0IddQ2wlmb31"
      },
      "execution_count": 16,
      "outputs": []
    }
  ]
}