{
  "nbformat": 4,
  "nbformat_minor": 0,
  "metadata": {
    "colab": {
      "name": "Untitled4.ipynb",
      "provenance": [],
      "collapsed_sections": [],
      "authorship_tag": "ABX9TyN00iPHYvPf643Fn3NvxaMO",
      "include_colab_link": true
    },
    "kernelspec": {
      "name": "python3",
      "display_name": "Python 3"
    },
    "language_info": {
      "name": "python"
    }
  },
  "cells": [
    {
      "cell_type": "markdown",
      "metadata": {
        "id": "view-in-github",
        "colab_type": "text"
      },
      "source": [
        "<a href=\"https://colab.research.google.com/github/uchan21/2022smarkle-AI-study-/blob/main/%EC%86%90%EA%B8%80%EC%94%A8%20%EC%9D%B8%EC%8B%9D%20(CNN).ipynb\" target=\"_parent\"><img src=\"https://colab.research.google.com/assets/colab-badge.svg\" alt=\"Open In Colab\"/></a>"
      ]
    },
    {
      "cell_type": "code",
      "execution_count": 1,
      "metadata": {
        "id": "p7db8mGa0kck"
      },
      "outputs": [],
      "source": [
        "from keras.datasets import mnist\n",
        "from keras.utils import np_utils\n",
        "from keras.models import Sequential\n",
        "from keras.layers import Dense, Dropout, Flatten, Conv2D, MaxPooling2D\n",
        "from keras.callbacks import ModelCheckpoint, EarlyStopping"
      ]
    },
    {
      "cell_type": "code",
      "source": [
        "import matplotlib.pyplot as plt\n",
        "import numpy\n",
        "import os\n",
        "import sys\n",
        "import tensorflow as tf"
      ],
      "metadata": {
        "id": "pqgf1Ut02gln"
      },
      "execution_count": 2,
      "outputs": []
    },
    {
      "cell_type": "code",
      "source": [
        "seed = 0\n",
        "numpy.random.seed(seed)\n",
        "tf.random.set_seed(3)"
      ],
      "metadata": {
        "id": "Zqw7TxaN2kxj"
      },
      "execution_count": 3,
      "outputs": []
    },
    {
      "cell_type": "code",
      "source": [
        "(X_train, Y_class_train),(X_test, Y_class_test) = mnist.load_data()"
      ],
      "metadata": {
        "id": "_2S4GAe22qb4"
      },
      "execution_count": 4,
      "outputs": []
    },
    {
      "cell_type": "code",
      "source": [
        "X_train = X_train.reshape(X_train.shape[0],28,28,1)\n",
        "X_train = X_train.astype('float32')\n",
        "X_train = X_train /255\n",
        "\n",
        "X_test = X_test.reshape(X_test.shape[0],28,28,1).astype('float32')/255"
      ],
      "metadata": {
        "id": "oagkn7Mt30Vv"
      },
      "execution_count": 5,
      "outputs": []
    },
    {
      "cell_type": "code",
      "source": [
        "Y_train = np_utils.to_categorical(Y_class_train)\n",
        "Y_test = np_utils.to_categorical(Y_class_test)"
      ],
      "metadata": {
        "id": "6EiC2b0c4pq-"
      },
      "execution_count": 6,
      "outputs": []
    },
    {
      "cell_type": "code",
      "source": [
        "print(Y_train[0])"
      ],
      "metadata": {
        "colab": {
          "base_uri": "https://localhost:8080/"
        },
        "id": "qnIpED5M44lY",
        "outputId": "124900fc-89a9-4790-ca3c-1a84fbe77500"
      },
      "execution_count": 7,
      "outputs": [
        {
          "output_type": "stream",
          "name": "stdout",
          "text": [
            "[0. 0. 0. 0. 0. 1. 0. 0. 0. 0.]\n"
          ]
        }
      ]
    },
    {
      "cell_type": "code",
      "source": [
        "model = Sequential()\n",
        "model.add(Conv2D(32,kernel_size=(3,3),input_shape=(28,28,1),activation = 'relu'))\n",
        "model.add(Conv2D(64,(3,3),activation='relu'))\n",
        "model.add(MaxPooling2D(pool_size=2))\n",
        "model.add(Dropout(0.25))\n",
        "model.add(Flatten())\n",
        "model.add(Dense(128,activation = 'relu'))\n",
        "model.add(Dropout(0.5))\n",
        "model.add(Dense(10,activation='softmax'))\n",
        "\n",
        "model.compile(loss='categorical_crossentropy',\n",
        "              optimizer = 'adam',\n",
        "              metrics = ['accuracy'])"
      ],
      "metadata": {
        "id": "GsAyWaT-46-h"
      },
      "execution_count": 8,
      "outputs": []
    },
    {
      "cell_type": "code",
      "source": [
        "MODEL_DIR = './model/'\n",
        "if not os.path.exists(MODEL_DIR):\n",
        "  os.mkdir(MODEL_DIR)"
      ],
      "metadata": {
        "id": "lBhImjLuC5yc"
      },
      "execution_count": 9,
      "outputs": []
    },
    {
      "cell_type": "code",
      "source": [
        "modelpath=\"./model/{epoch:02d}-{val_loss:.4f}.hdf5\"\n",
        "checkpointer = ModelCheckpoint(filepath=modelpath, monitor='val_loss',verbose=1,save_best_only=True)\n",
        "early_stopping_callback = EarlyStopping(monitor='val_loss',patience=10)"
      ],
      "metadata": {
        "id": "6cSLkK_MDYF8"
      },
      "execution_count": 12,
      "outputs": []
    },
    {
      "cell_type": "code",
      "source": [
        "history = model.fit(X_train, Y_train, validation_data=(X_test,Y_test), epochs=30,batch_size=200, verbose=0, callbacks=[early_stopping_callback,checkpointer])"
      ],
      "metadata": {
        "colab": {
          "base_uri": "https://localhost:8080/"
        },
        "id": "OG08eiquHsJ3",
        "outputId": "ded6fb94-7fb9-4f3d-8ac7-85a92b6ad769"
      },
      "execution_count": 13,
      "outputs": [
        {
          "output_type": "stream",
          "name": "stdout",
          "text": [
            "\n",
            "Epoch 00001: val_loss improved from inf to 0.05445, saving model to ./model/01-0.0545.hdf5\n",
            "\n",
            "Epoch 00002: val_loss improved from 0.05445 to 0.04027, saving model to ./model/02-0.0403.hdf5\n",
            "\n",
            "Epoch 00003: val_loss improved from 0.04027 to 0.03456, saving model to ./model/03-0.0346.hdf5\n",
            "\n",
            "Epoch 00004: val_loss improved from 0.03456 to 0.03162, saving model to ./model/04-0.0316.hdf5\n",
            "\n",
            "Epoch 00005: val_loss did not improve from 0.03162\n",
            "\n",
            "Epoch 00006: val_loss improved from 0.03162 to 0.03133, saving model to ./model/06-0.0313.hdf5\n",
            "\n",
            "Epoch 00007: val_loss did not improve from 0.03133\n",
            "\n",
            "Epoch 00008: val_loss improved from 0.03133 to 0.02898, saving model to ./model/08-0.0290.hdf5\n",
            "\n",
            "Epoch 00009: val_loss did not improve from 0.02898\n",
            "\n",
            "Epoch 00010: val_loss did not improve from 0.02898\n",
            "\n",
            "Epoch 00011: val_loss did not improve from 0.02898\n",
            "\n",
            "Epoch 00012: val_loss did not improve from 0.02898\n",
            "\n",
            "Epoch 00013: val_loss improved from 0.02898 to 0.02892, saving model to ./model/13-0.0289.hdf5\n",
            "\n",
            "Epoch 00014: val_loss improved from 0.02892 to 0.02685, saving model to ./model/14-0.0269.hdf5\n",
            "\n",
            "Epoch 00015: val_loss did not improve from 0.02685\n",
            "\n",
            "Epoch 00016: val_loss did not improve from 0.02685\n",
            "\n",
            "Epoch 00017: val_loss improved from 0.02685 to 0.02651, saving model to ./model/17-0.0265.hdf5\n",
            "\n",
            "Epoch 00018: val_loss did not improve from 0.02651\n",
            "\n",
            "Epoch 00019: val_loss did not improve from 0.02651\n",
            "\n",
            "Epoch 00020: val_loss did not improve from 0.02651\n",
            "\n",
            "Epoch 00021: val_loss did not improve from 0.02651\n",
            "\n",
            "Epoch 00022: val_loss did not improve from 0.02651\n",
            "\n",
            "Epoch 00023: val_loss did not improve from 0.02651\n",
            "\n",
            "Epoch 00024: val_loss did not improve from 0.02651\n",
            "\n",
            "Epoch 00025: val_loss did not improve from 0.02651\n",
            "\n",
            "Epoch 00026: val_loss did not improve from 0.02651\n",
            "\n",
            "Epoch 00027: val_loss did not improve from 0.02651\n"
          ]
        }
      ]
    },
    {
      "cell_type": "code",
      "source": [
        "print(\"\\n Test Accuracy: %.4f\"%(model.evaluate(X_test, Y_test)[1]))"
      ],
      "metadata": {
        "colab": {
          "base_uri": "https://localhost:8080/"
        },
        "id": "TzoJGVLuHtKw",
        "outputId": "4d4e87dd-fa80-4f51-d3bf-8579b325f594"
      },
      "execution_count": 14,
      "outputs": [
        {
          "output_type": "stream",
          "name": "stdout",
          "text": [
            "313/313 [==============================] - 7s 23ms/step - loss: 0.0313 - accuracy: 0.9933\n",
            "\n",
            " Test Accuracy: 0.9933\n"
          ]
        }
      ]
    },
    {
      "cell_type": "code",
      "source": [
        "y_vloss = history.history['val_loss']\n",
        "y_loss = history.history['loss']"
      ],
      "metadata": {
        "id": "pq334ccCTfWU"
      },
      "execution_count": 15,
      "outputs": []
    },
    {
      "cell_type": "code",
      "source": [
        "x_len = numpy.arange(len(y_loss))\n",
        "plt.plot(x_len,y_vloss,marker='.',c=\"red\",label='Testset_loss')\n",
        "plt.plot(x_len,y_loss,marker='.',c=\"blue\",label='Trainset_loss')\n",
        "plt.legend(loc='upper right')\n",
        "plt.grid()\n",
        "plt.xlabel('epoch')\n",
        "plt.ylabel('loss')\n",
        "plt.show"
      ],
      "metadata": {
        "colab": {
          "base_uri": "https://localhost:8080/",
          "height": 297
        },
        "id": "SQv9Hkr_Ts_x",
        "outputId": "c35c19ef-d123-48f6-fee7-3ff4352084d6"
      },
      "execution_count": 19,
      "outputs": [
        {
          "output_type": "execute_result",
          "data": {
            "text/plain": [
              "<function matplotlib.pyplot.show>"
            ]
          },
          "metadata": {},
          "execution_count": 19
        },
        {
          "output_type": "display_data",
          "data": {
            "image/png": "[encoded data removed]",
            "text/plain": [
              "<Figure size 432x288 with 1 Axes>"
            ]
          },
          "metadata": {
            "needs_background": "light"
          }
        }
      ]
    }
  ]
}
